{
    "cells": [
        {
            "cell_type": "markdown",
            "metadata": {},
            "source": [
                "# EDA"
            ]
        },
        {
            "cell_type": "code",
            "execution_count": 127,
            "metadata": {},
            "outputs": [],
            "source": [
                "import pandas as pd\n",
                "import matplotlib.pyplot as plt\n",
                "import numpy as np\n",
                "import missingno as mingo\n",
                "from sklearn.model_selection import train_test_split\n",
                "import statsmodels.api as sm\n",
                "import xgboost as xgb\n",
                "\n"
            ]
        },
        {
            "cell_type": "code",
            "execution_count": 79,
            "metadata": {},
            "outputs": [
                {
                    "data": {
                        "text/html": [
                            "<div>\n",
                            "<style scoped>\n",
                            "    .dataframe tbody tr th:only-of-type {\n",
                            "        vertical-align: middle;\n",
                            "    }\n",
                            "\n",
                            "    .dataframe tbody tr th {\n",
                            "        vertical-align: top;\n",
                            "    }\n",
                            "\n",
                            "    .dataframe thead th {\n",
                            "        text-align: right;\n",
                            "    }\n",
                            "</style>\n",
                            "<table border=\"1\" class=\"dataframe\">\n",
                            "  <thead>\n",
                            "    <tr style=\"text-align: right;\">\n",
                            "      <th></th>\n",
                            "      <th>id</th>\n",
                            "      <th>name</th>\n",
                            "      <th>host_id</th>\n",
                            "      <th>host_name</th>\n",
                            "      <th>neighbourhood_group</th>\n",
                            "      <th>neighbourhood</th>\n",
                            "      <th>latitude</th>\n",
                            "      <th>longitude</th>\n",
                            "      <th>room_type</th>\n",
                            "      <th>price</th>\n",
                            "      <th>minimum_nights</th>\n",
                            "      <th>number_of_reviews</th>\n",
                            "      <th>last_review</th>\n",
                            "      <th>reviews_per_month</th>\n",
                            "      <th>calculated_host_listings_count</th>\n",
                            "      <th>availability_365</th>\n",
                            "    </tr>\n",
                            "  </thead>\n",
                            "  <tbody>\n",
                            "    <tr>\n",
                            "      <th>0</th>\n",
                            "      <td>2539</td>\n",
                            "      <td>Clean &amp; quiet apt home by the park</td>\n",
                            "      <td>2787</td>\n",
                            "      <td>John</td>\n",
                            "      <td>Brooklyn</td>\n",
                            "      <td>Kensington</td>\n",
                            "      <td>40.64749</td>\n",
                            "      <td>-73.97237</td>\n",
                            "      <td>Private room</td>\n",
                            "      <td>149</td>\n",
                            "      <td>1</td>\n",
                            "      <td>9</td>\n",
                            "      <td>2018-10-19</td>\n",
                            "      <td>0.21</td>\n",
                            "      <td>6</td>\n",
                            "      <td>365</td>\n",
                            "    </tr>\n",
                            "    <tr>\n",
                            "      <th>1</th>\n",
                            "      <td>2595</td>\n",
                            "      <td>Skylit Midtown Castle</td>\n",
                            "      <td>2845</td>\n",
                            "      <td>Jennifer</td>\n",
                            "      <td>Manhattan</td>\n",
                            "      <td>Midtown</td>\n",
                            "      <td>40.75362</td>\n",
                            "      <td>-73.98377</td>\n",
                            "      <td>Entire home/apt</td>\n",
                            "      <td>225</td>\n",
                            "      <td>1</td>\n",
                            "      <td>45</td>\n",
                            "      <td>2019-05-21</td>\n",
                            "      <td>0.38</td>\n",
                            "      <td>2</td>\n",
                            "      <td>355</td>\n",
                            "    </tr>\n",
                            "    <tr>\n",
                            "      <th>2</th>\n",
                            "      <td>3647</td>\n",
                            "      <td>THE VILLAGE OF HARLEM....NEW YORK !</td>\n",
                            "      <td>4632</td>\n",
                            "      <td>Elisabeth</td>\n",
                            "      <td>Manhattan</td>\n",
                            "      <td>Harlem</td>\n",
                            "      <td>40.80902</td>\n",
                            "      <td>-73.94190</td>\n",
                            "      <td>Private room</td>\n",
                            "      <td>150</td>\n",
                            "      <td>3</td>\n",
                            "      <td>0</td>\n",
                            "      <td>NaN</td>\n",
                            "      <td>NaN</td>\n",
                            "      <td>1</td>\n",
                            "      <td>365</td>\n",
                            "    </tr>\n",
                            "    <tr>\n",
                            "      <th>3</th>\n",
                            "      <td>3831</td>\n",
                            "      <td>Cozy Entire Floor of Brownstone</td>\n",
                            "      <td>4869</td>\n",
                            "      <td>LisaRoxanne</td>\n",
                            "      <td>Brooklyn</td>\n",
                            "      <td>Clinton Hill</td>\n",
                            "      <td>40.68514</td>\n",
                            "      <td>-73.95976</td>\n",
                            "      <td>Entire home/apt</td>\n",
                            "      <td>89</td>\n",
                            "      <td>1</td>\n",
                            "      <td>270</td>\n",
                            "      <td>2019-07-05</td>\n",
                            "      <td>4.64</td>\n",
                            "      <td>1</td>\n",
                            "      <td>194</td>\n",
                            "    </tr>\n",
                            "    <tr>\n",
                            "      <th>4</th>\n",
                            "      <td>5022</td>\n",
                            "      <td>Entire Apt: Spacious Studio/Loft by central park</td>\n",
                            "      <td>7192</td>\n",
                            "      <td>Laura</td>\n",
                            "      <td>Manhattan</td>\n",
                            "      <td>East Harlem</td>\n",
                            "      <td>40.79851</td>\n",
                            "      <td>-73.94399</td>\n",
                            "      <td>Entire home/apt</td>\n",
                            "      <td>80</td>\n",
                            "      <td>10</td>\n",
                            "      <td>9</td>\n",
                            "      <td>2018-11-19</td>\n",
                            "      <td>0.10</td>\n",
                            "      <td>1</td>\n",
                            "      <td>0</td>\n",
                            "    </tr>\n",
                            "  </tbody>\n",
                            "</table>\n",
                            "</div>"
                        ],
                        "text/plain": [
                            "     id                                              name  host_id  \\\n",
                            "0  2539                Clean & quiet apt home by the park     2787   \n",
                            "1  2595                             Skylit Midtown Castle     2845   \n",
                            "2  3647               THE VILLAGE OF HARLEM....NEW YORK !     4632   \n",
                            "3  3831                   Cozy Entire Floor of Brownstone     4869   \n",
                            "4  5022  Entire Apt: Spacious Studio/Loft by central park     7192   \n",
                            "\n",
                            "     host_name neighbourhood_group neighbourhood  latitude  longitude  \\\n",
                            "0         John            Brooklyn    Kensington  40.64749  -73.97237   \n",
                            "1     Jennifer           Manhattan       Midtown  40.75362  -73.98377   \n",
                            "2    Elisabeth           Manhattan        Harlem  40.80902  -73.94190   \n",
                            "3  LisaRoxanne            Brooklyn  Clinton Hill  40.68514  -73.95976   \n",
                            "4        Laura           Manhattan   East Harlem  40.79851  -73.94399   \n",
                            "\n",
                            "         room_type  price  minimum_nights  number_of_reviews last_review  \\\n",
                            "0     Private room    149               1                  9  2018-10-19   \n",
                            "1  Entire home/apt    225               1                 45  2019-05-21   \n",
                            "2     Private room    150               3                  0         NaN   \n",
                            "3  Entire home/apt     89               1                270  2019-07-05   \n",
                            "4  Entire home/apt     80              10                  9  2018-11-19   \n",
                            "\n",
                            "   reviews_per_month  calculated_host_listings_count  availability_365  \n",
                            "0               0.21                               6               365  \n",
                            "1               0.38                               2               355  \n",
                            "2                NaN                               1               365  \n",
                            "3               4.64                               1               194  \n",
                            "4               0.10                               1                 0  "
                        ]
                    },
                    "execution_count": 79,
                    "metadata": {},
                    "output_type": "execute_result"
                }
            ],
            "source": [
                "url = \"https://raw.githubusercontent.com/4GeeksAcademy/data-preprocessing-project-tutorial/main/AB_NYC_2019.csv\"\n",
                "df = pd.read_csv(url)\n",
                "df.head(5)"
            ]
        },
        {
            "cell_type": "code",
            "execution_count": 80,
            "metadata": {},
            "outputs": [
                {
                    "data": {
                        "text/html": [
                            "<div>\n",
                            "<style scoped>\n",
                            "    .dataframe tbody tr th:only-of-type {\n",
                            "        vertical-align: middle;\n",
                            "    }\n",
                            "\n",
                            "    .dataframe tbody tr th {\n",
                            "        vertical-align: top;\n",
                            "    }\n",
                            "\n",
                            "    .dataframe thead th {\n",
                            "        text-align: right;\n",
                            "    }\n",
                            "</style>\n",
                            "<table border=\"1\" class=\"dataframe\">\n",
                            "  <thead>\n",
                            "    <tr style=\"text-align: right;\">\n",
                            "      <th></th>\n",
                            "      <th>id</th>\n",
                            "      <th>name</th>\n",
                            "      <th>host_id</th>\n",
                            "      <th>host_name</th>\n",
                            "      <th>neighbourhood_group</th>\n",
                            "      <th>neighbourhood</th>\n",
                            "      <th>latitude</th>\n",
                            "      <th>longitude</th>\n",
                            "      <th>room_type</th>\n",
                            "      <th>price</th>\n",
                            "      <th>minimum_nights</th>\n",
                            "      <th>number_of_reviews</th>\n",
                            "      <th>last_review</th>\n",
                            "      <th>reviews_per_month</th>\n",
                            "      <th>calculated_host_listings_count</th>\n",
                            "      <th>availability_365</th>\n",
                            "    </tr>\n",
                            "  </thead>\n",
                            "  <tbody>\n",
                            "    <tr>\n",
                            "      <th>48890</th>\n",
                            "      <td>36484665</td>\n",
                            "      <td>Charming one bedroom - newly renovated rowhouse</td>\n",
                            "      <td>8232441</td>\n",
                            "      <td>Sabrina</td>\n",
                            "      <td>Brooklyn</td>\n",
                            "      <td>Bedford-Stuyvesant</td>\n",
                            "      <td>40.67853</td>\n",
                            "      <td>-73.94995</td>\n",
                            "      <td>Private room</td>\n",
                            "      <td>70</td>\n",
                            "      <td>2</td>\n",
                            "      <td>0</td>\n",
                            "      <td>NaN</td>\n",
                            "      <td>NaN</td>\n",
                            "      <td>2</td>\n",
                            "      <td>9</td>\n",
                            "    </tr>\n",
                            "    <tr>\n",
                            "      <th>48891</th>\n",
                            "      <td>36485057</td>\n",
                            "      <td>Affordable room in Bushwick/East Williamsburg</td>\n",
                            "      <td>6570630</td>\n",
                            "      <td>Marisol</td>\n",
                            "      <td>Brooklyn</td>\n",
                            "      <td>Bushwick</td>\n",
                            "      <td>40.70184</td>\n",
                            "      <td>-73.93317</td>\n",
                            "      <td>Private room</td>\n",
                            "      <td>40</td>\n",
                            "      <td>4</td>\n",
                            "      <td>0</td>\n",
                            "      <td>NaN</td>\n",
                            "      <td>NaN</td>\n",
                            "      <td>2</td>\n",
                            "      <td>36</td>\n",
                            "    </tr>\n",
                            "    <tr>\n",
                            "      <th>48892</th>\n",
                            "      <td>36485431</td>\n",
                            "      <td>Sunny Studio at Historical Neighborhood</td>\n",
                            "      <td>23492952</td>\n",
                            "      <td>Ilgar &amp; Aysel</td>\n",
                            "      <td>Manhattan</td>\n",
                            "      <td>Harlem</td>\n",
                            "      <td>40.81475</td>\n",
                            "      <td>-73.94867</td>\n",
                            "      <td>Entire home/apt</td>\n",
                            "      <td>115</td>\n",
                            "      <td>10</td>\n",
                            "      <td>0</td>\n",
                            "      <td>NaN</td>\n",
                            "      <td>NaN</td>\n",
                            "      <td>1</td>\n",
                            "      <td>27</td>\n",
                            "    </tr>\n",
                            "    <tr>\n",
                            "      <th>48893</th>\n",
                            "      <td>36485609</td>\n",
                            "      <td>43rd St. Time Square-cozy single bed</td>\n",
                            "      <td>30985759</td>\n",
                            "      <td>Taz</td>\n",
                            "      <td>Manhattan</td>\n",
                            "      <td>Hell's Kitchen</td>\n",
                            "      <td>40.75751</td>\n",
                            "      <td>-73.99112</td>\n",
                            "      <td>Shared room</td>\n",
                            "      <td>55</td>\n",
                            "      <td>1</td>\n",
                            "      <td>0</td>\n",
                            "      <td>NaN</td>\n",
                            "      <td>NaN</td>\n",
                            "      <td>6</td>\n",
                            "      <td>2</td>\n",
                            "    </tr>\n",
                            "    <tr>\n",
                            "      <th>48894</th>\n",
                            "      <td>36487245</td>\n",
                            "      <td>Trendy duplex in the very heart of Hell's Kitchen</td>\n",
                            "      <td>68119814</td>\n",
                            "      <td>Christophe</td>\n",
                            "      <td>Manhattan</td>\n",
                            "      <td>Hell's Kitchen</td>\n",
                            "      <td>40.76404</td>\n",
                            "      <td>-73.98933</td>\n",
                            "      <td>Private room</td>\n",
                            "      <td>90</td>\n",
                            "      <td>7</td>\n",
                            "      <td>0</td>\n",
                            "      <td>NaN</td>\n",
                            "      <td>NaN</td>\n",
                            "      <td>1</td>\n",
                            "      <td>23</td>\n",
                            "    </tr>\n",
                            "  </tbody>\n",
                            "</table>\n",
                            "</div>"
                        ],
                        "text/plain": [
                            "             id                                               name   host_id  \\\n",
                            "48890  36484665    Charming one bedroom - newly renovated rowhouse   8232441   \n",
                            "48891  36485057      Affordable room in Bushwick/East Williamsburg   6570630   \n",
                            "48892  36485431            Sunny Studio at Historical Neighborhood  23492952   \n",
                            "48893  36485609               43rd St. Time Square-cozy single bed  30985759   \n",
                            "48894  36487245  Trendy duplex in the very heart of Hell's Kitchen  68119814   \n",
                            "\n",
                            "           host_name neighbourhood_group       neighbourhood  latitude  \\\n",
                            "48890        Sabrina            Brooklyn  Bedford-Stuyvesant  40.67853   \n",
                            "48891        Marisol            Brooklyn            Bushwick  40.70184   \n",
                            "48892  Ilgar & Aysel           Manhattan              Harlem  40.81475   \n",
                            "48893            Taz           Manhattan      Hell's Kitchen  40.75751   \n",
                            "48894     Christophe           Manhattan      Hell's Kitchen  40.76404   \n",
                            "\n",
                            "       longitude        room_type  price  minimum_nights  number_of_reviews  \\\n",
                            "48890  -73.94995     Private room     70               2                  0   \n",
                            "48891  -73.93317     Private room     40               4                  0   \n",
                            "48892  -73.94867  Entire home/apt    115              10                  0   \n",
                            "48893  -73.99112      Shared room     55               1                  0   \n",
                            "48894  -73.98933     Private room     90               7                  0   \n",
                            "\n",
                            "      last_review  reviews_per_month  calculated_host_listings_count  \\\n",
                            "48890         NaN                NaN                               2   \n",
                            "48891         NaN                NaN                               2   \n",
                            "48892         NaN                NaN                               1   \n",
                            "48893         NaN                NaN                               6   \n",
                            "48894         NaN                NaN                               1   \n",
                            "\n",
                            "       availability_365  \n",
                            "48890                 9  \n",
                            "48891                36  \n",
                            "48892                27  \n",
                            "48893                 2  \n",
                            "48894                23  "
                        ]
                    },
                    "execution_count": 80,
                    "metadata": {},
                    "output_type": "execute_result"
                }
            ],
            "source": [
                "df.tail(5)"
            ]
        },
        {
            "cell_type": "code",
            "execution_count": 81,
            "metadata": {},
            "outputs": [
                {
                    "data": {
                        "text/plain": [
                            "(48895, 16)"
                        ]
                    },
                    "execution_count": 81,
                    "metadata": {},
                    "output_type": "execute_result"
                }
            ],
            "source": [
                "df.shape"
            ]
        },
        {
            "cell_type": "code",
            "execution_count": 82,
            "metadata": {},
            "outputs": [
                {
                    "name": "stdout",
                    "output_type": "stream",
                    "text": [
                        "<class 'pandas.core.frame.DataFrame'>\n",
                        "RangeIndex: 48895 entries, 0 to 48894\n",
                        "Data columns (total 16 columns):\n",
                        " #   Column                          Non-Null Count  Dtype  \n",
                        "---  ------                          --------------  -----  \n",
                        " 0   id                              48895 non-null  int64  \n",
                        " 1   name                            48879 non-null  object \n",
                        " 2   host_id                         48895 non-null  int64  \n",
                        " 3   host_name                       48874 non-null  object \n",
                        " 4   neighbourhood_group             48895 non-null  object \n",
                        " 5   neighbourhood                   48895 non-null  object \n",
                        " 6   latitude                        48895 non-null  float64\n",
                        " 7   longitude                       48895 non-null  float64\n",
                        " 8   room_type                       48895 non-null  object \n",
                        " 9   price                           48895 non-null  int64  \n",
                        " 10  minimum_nights                  48895 non-null  int64  \n",
                        " 11  number_of_reviews               48895 non-null  int64  \n",
                        " 12  last_review                     38843 non-null  object \n",
                        " 13  reviews_per_month               38843 non-null  float64\n",
                        " 14  calculated_host_listings_count  48895 non-null  int64  \n",
                        " 15  availability_365                48895 non-null  int64  \n",
                        "dtypes: float64(3), int64(7), object(6)\n",
                        "memory usage: 6.0+ MB\n"
                    ]
                }
            ],
            "source": [
                "df.info()"
            ]
        },
        {
            "cell_type": "code",
            "execution_count": 83,
            "metadata": {},
            "outputs": [
                {
                    "data": {
                        "text/html": [
                            "<div>\n",
                            "<style scoped>\n",
                            "    .dataframe tbody tr th:only-of-type {\n",
                            "        vertical-align: middle;\n",
                            "    }\n",
                            "\n",
                            "    .dataframe tbody tr th {\n",
                            "        vertical-align: top;\n",
                            "    }\n",
                            "\n",
                            "    .dataframe thead th {\n",
                            "        text-align: right;\n",
                            "    }\n",
                            "</style>\n",
                            "<table border=\"1\" class=\"dataframe\">\n",
                            "  <thead>\n",
                            "    <tr style=\"text-align: right;\">\n",
                            "      <th></th>\n",
                            "      <th>id</th>\n",
                            "      <th>host_id</th>\n",
                            "      <th>latitude</th>\n",
                            "      <th>longitude</th>\n",
                            "      <th>price</th>\n",
                            "      <th>minimum_nights</th>\n",
                            "      <th>number_of_reviews</th>\n",
                            "      <th>reviews_per_month</th>\n",
                            "      <th>calculated_host_listings_count</th>\n",
                            "      <th>availability_365</th>\n",
                            "    </tr>\n",
                            "  </thead>\n",
                            "  <tbody>\n",
                            "    <tr>\n",
                            "      <th>count</th>\n",
                            "      <td>4.889500e+04</td>\n",
                            "      <td>4.889500e+04</td>\n",
                            "      <td>48895.000000</td>\n",
                            "      <td>48895.000000</td>\n",
                            "      <td>48895.000000</td>\n",
                            "      <td>48895.000000</td>\n",
                            "      <td>48895.000000</td>\n",
                            "      <td>38843.000000</td>\n",
                            "      <td>48895.000000</td>\n",
                            "      <td>48895.000000</td>\n",
                            "    </tr>\n",
                            "    <tr>\n",
                            "      <th>mean</th>\n",
                            "      <td>1.901714e+07</td>\n",
                            "      <td>6.762001e+07</td>\n",
                            "      <td>40.728949</td>\n",
                            "      <td>-73.952170</td>\n",
                            "      <td>152.720687</td>\n",
                            "      <td>7.029962</td>\n",
                            "      <td>23.274466</td>\n",
                            "      <td>1.373221</td>\n",
                            "      <td>7.143982</td>\n",
                            "      <td>112.781327</td>\n",
                            "    </tr>\n",
                            "    <tr>\n",
                            "      <th>std</th>\n",
                            "      <td>1.098311e+07</td>\n",
                            "      <td>7.861097e+07</td>\n",
                            "      <td>0.054530</td>\n",
                            "      <td>0.046157</td>\n",
                            "      <td>240.154170</td>\n",
                            "      <td>20.510550</td>\n",
                            "      <td>44.550582</td>\n",
                            "      <td>1.680442</td>\n",
                            "      <td>32.952519</td>\n",
                            "      <td>131.622289</td>\n",
                            "    </tr>\n",
                            "    <tr>\n",
                            "      <th>min</th>\n",
                            "      <td>2.539000e+03</td>\n",
                            "      <td>2.438000e+03</td>\n",
                            "      <td>40.499790</td>\n",
                            "      <td>-74.244420</td>\n",
                            "      <td>0.000000</td>\n",
                            "      <td>1.000000</td>\n",
                            "      <td>0.000000</td>\n",
                            "      <td>0.010000</td>\n",
                            "      <td>1.000000</td>\n",
                            "      <td>0.000000</td>\n",
                            "    </tr>\n",
                            "    <tr>\n",
                            "      <th>25%</th>\n",
                            "      <td>9.471945e+06</td>\n",
                            "      <td>7.822033e+06</td>\n",
                            "      <td>40.690100</td>\n",
                            "      <td>-73.983070</td>\n",
                            "      <td>69.000000</td>\n",
                            "      <td>1.000000</td>\n",
                            "      <td>1.000000</td>\n",
                            "      <td>0.190000</td>\n",
                            "      <td>1.000000</td>\n",
                            "      <td>0.000000</td>\n",
                            "    </tr>\n",
                            "    <tr>\n",
                            "      <th>50%</th>\n",
                            "      <td>1.967728e+07</td>\n",
                            "      <td>3.079382e+07</td>\n",
                            "      <td>40.723070</td>\n",
                            "      <td>-73.955680</td>\n",
                            "      <td>106.000000</td>\n",
                            "      <td>3.000000</td>\n",
                            "      <td>5.000000</td>\n",
                            "      <td>0.720000</td>\n",
                            "      <td>1.000000</td>\n",
                            "      <td>45.000000</td>\n",
                            "    </tr>\n",
                            "    <tr>\n",
                            "      <th>75%</th>\n",
                            "      <td>2.915218e+07</td>\n",
                            "      <td>1.074344e+08</td>\n",
                            "      <td>40.763115</td>\n",
                            "      <td>-73.936275</td>\n",
                            "      <td>175.000000</td>\n",
                            "      <td>5.000000</td>\n",
                            "      <td>24.000000</td>\n",
                            "      <td>2.020000</td>\n",
                            "      <td>2.000000</td>\n",
                            "      <td>227.000000</td>\n",
                            "    </tr>\n",
                            "    <tr>\n",
                            "      <th>max</th>\n",
                            "      <td>3.648724e+07</td>\n",
                            "      <td>2.743213e+08</td>\n",
                            "      <td>40.913060</td>\n",
                            "      <td>-73.712990</td>\n",
                            "      <td>10000.000000</td>\n",
                            "      <td>1250.000000</td>\n",
                            "      <td>629.000000</td>\n",
                            "      <td>58.500000</td>\n",
                            "      <td>327.000000</td>\n",
                            "      <td>365.000000</td>\n",
                            "    </tr>\n",
                            "  </tbody>\n",
                            "</table>\n",
                            "</div>"
                        ],
                        "text/plain": [
                            "                 id       host_id      latitude     longitude         price  \\\n",
                            "count  4.889500e+04  4.889500e+04  48895.000000  48895.000000  48895.000000   \n",
                            "mean   1.901714e+07  6.762001e+07     40.728949    -73.952170    152.720687   \n",
                            "std    1.098311e+07  7.861097e+07      0.054530      0.046157    240.154170   \n",
                            "min    2.539000e+03  2.438000e+03     40.499790    -74.244420      0.000000   \n",
                            "25%    9.471945e+06  7.822033e+06     40.690100    -73.983070     69.000000   \n",
                            "50%    1.967728e+07  3.079382e+07     40.723070    -73.955680    106.000000   \n",
                            "75%    2.915218e+07  1.074344e+08     40.763115    -73.936275    175.000000   \n",
                            "max    3.648724e+07  2.743213e+08     40.913060    -73.712990  10000.000000   \n",
                            "\n",
                            "       minimum_nights  number_of_reviews  reviews_per_month  \\\n",
                            "count    48895.000000       48895.000000       38843.000000   \n",
                            "mean         7.029962          23.274466           1.373221   \n",
                            "std         20.510550          44.550582           1.680442   \n",
                            "min          1.000000           0.000000           0.010000   \n",
                            "25%          1.000000           1.000000           0.190000   \n",
                            "50%          3.000000           5.000000           0.720000   \n",
                            "75%          5.000000          24.000000           2.020000   \n",
                            "max       1250.000000         629.000000          58.500000   \n",
                            "\n",
                            "       calculated_host_listings_count  availability_365  \n",
                            "count                    48895.000000      48895.000000  \n",
                            "mean                         7.143982        112.781327  \n",
                            "std                         32.952519        131.622289  \n",
                            "min                          1.000000          0.000000  \n",
                            "25%                          1.000000          0.000000  \n",
                            "50%                          1.000000         45.000000  \n",
                            "75%                          2.000000        227.000000  \n",
                            "max                        327.000000        365.000000  "
                        ]
                    },
                    "execution_count": 83,
                    "metadata": {},
                    "output_type": "execute_result"
                }
            ],
            "source": [
                "df.describe()"
            ]
        },
        {
            "cell_type": "code",
            "execution_count": 84,
            "metadata": {},
            "outputs": [
                {
                    "name": "stdout",
                    "output_type": "stream",
                    "text": [
                        "id                                    0\n",
                        "name                                 16\n",
                        "host_id                               0\n",
                        "host_name                            21\n",
                        "neighbourhood_group                   0\n",
                        "neighbourhood                         0\n",
                        "latitude                              0\n",
                        "longitude                             0\n",
                        "room_type                             0\n",
                        "price                                 0\n",
                        "minimum_nights                        0\n",
                        "number_of_reviews                     0\n",
                        "last_review                       10052\n",
                        "reviews_per_month                 10052\n",
                        "calculated_host_listings_count        0\n",
                        "availability_365                      0\n",
                        "dtype: int64\n",
                        "0\n"
                    ]
                }
            ],
            "source": [
                "print(df.isnull().sum())\n",
                "print(df.duplicated().sum())"
            ]
        },
        {
            "cell_type": "code",
            "execution_count": 85,
            "metadata": {},
            "outputs": [],
            "source": [
                "df.drop(['last_review','neighbourhood','host_name','reviews_per_month'], axis=1, inplace=True)"
            ]
        },
        {
            "cell_type": "markdown",
            "metadata": {},
            "source": [
                "Eliminamos las columnas que consideramos poco influyentes para el analisis."
            ]
        },
        {
            "cell_type": "code",
            "execution_count": 86,
            "metadata": {},
            "outputs": [
                {
                    "data": {
                        "text/plain": [
                            "id                                  int64\n",
                            "name                               object\n",
                            "host_id                             int64\n",
                            "neighbourhood_group                object\n",
                            "latitude                          float64\n",
                            "longitude                         float64\n",
                            "room_type                          object\n",
                            "price                               int64\n",
                            "minimum_nights                      int64\n",
                            "number_of_reviews                   int64\n",
                            "calculated_host_listings_count      int64\n",
                            "availability_365                    int64\n",
                            "dtype: object"
                        ]
                    },
                    "execution_count": 86,
                    "metadata": {},
                    "output_type": "execute_result"
                }
            ],
            "source": [
                "df.dtypes"
            ]
        },
        {
            "cell_type": "code",
            "execution_count": 87,
            "metadata": {},
            "outputs": [
                {
                    "data": {
                        "text/plain": [
                            "id                                48895\n",
                            "name                              47905\n",
                            "host_id                           37457\n",
                            "neighbourhood_group                   5\n",
                            "latitude                          19048\n",
                            "longitude                         14718\n",
                            "room_type                             3\n",
                            "price                               674\n",
                            "minimum_nights                      109\n",
                            "number_of_reviews                   394\n",
                            "calculated_host_listings_count       47\n",
                            "availability_365                    366\n",
                            "dtype: int64"
                        ]
                    },
                    "execution_count": 87,
                    "metadata": {},
                    "output_type": "execute_result"
                }
            ],
            "source": [
                "df.nunique()"
            ]
        },
        {
            "cell_type": "code",
            "execution_count": 88,
            "metadata": {},
            "outputs": [
                {
                    "data": {
                        "text/plain": [
                            "id                                False\n",
                            "name                              False\n",
                            "host_id                           False\n",
                            "neighbourhood_group               False\n",
                            "latitude                          False\n",
                            "longitude                         False\n",
                            "room_type                         False\n",
                            "price                             False\n",
                            "minimum_nights                    False\n",
                            "number_of_reviews                 False\n",
                            "calculated_host_listings_count    False\n",
                            "availability_365                  False\n",
                            "dtype: bool"
                        ]
                    },
                    "execution_count": 88,
                    "metadata": {},
                    "output_type": "execute_result"
                }
            ],
            "source": [
                "df.T.duplicated(keep=False)"
            ]
        },
        {
            "cell_type": "code",
            "execution_count": 89,
            "metadata": {},
            "outputs": [
                {
                    "data": {
                        "text/html": [
                            "<div>\n",
                            "<style scoped>\n",
                            "    .dataframe tbody tr th:only-of-type {\n",
                            "        vertical-align: middle;\n",
                            "    }\n",
                            "\n",
                            "    .dataframe tbody tr th {\n",
                            "        vertical-align: top;\n",
                            "    }\n",
                            "\n",
                            "    .dataframe thead th {\n",
                            "        text-align: right;\n",
                            "    }\n",
                            "</style>\n",
                            "<table border=\"1\" class=\"dataframe\">\n",
                            "  <thead>\n",
                            "    <tr style=\"text-align: right;\">\n",
                            "      <th></th>\n",
                            "      <th>count</th>\n",
                            "      <th>mean</th>\n",
                            "      <th>std</th>\n",
                            "      <th>min</th>\n",
                            "      <th>25%</th>\n",
                            "      <th>50%</th>\n",
                            "      <th>75%</th>\n",
                            "      <th>max</th>\n",
                            "    </tr>\n",
                            "  </thead>\n",
                            "  <tbody>\n",
                            "    <tr>\n",
                            "      <th>id</th>\n",
                            "      <td>48895.0</td>\n",
                            "      <td>1.901714e+07</td>\n",
                            "      <td>1.098311e+07</td>\n",
                            "      <td>2539.00000</td>\n",
                            "      <td>9.471945e+06</td>\n",
                            "      <td>1.967728e+07</td>\n",
                            "      <td>2.915218e+07</td>\n",
                            "      <td>3.648724e+07</td>\n",
                            "    </tr>\n",
                            "    <tr>\n",
                            "      <th>host_id</th>\n",
                            "      <td>48895.0</td>\n",
                            "      <td>6.762001e+07</td>\n",
                            "      <td>7.861097e+07</td>\n",
                            "      <td>2438.00000</td>\n",
                            "      <td>7.822033e+06</td>\n",
                            "      <td>3.079382e+07</td>\n",
                            "      <td>1.074344e+08</td>\n",
                            "      <td>2.743213e+08</td>\n",
                            "    </tr>\n",
                            "    <tr>\n",
                            "      <th>latitude</th>\n",
                            "      <td>48895.0</td>\n",
                            "      <td>4.072895e+01</td>\n",
                            "      <td>5.453008e-02</td>\n",
                            "      <td>40.49979</td>\n",
                            "      <td>4.069010e+01</td>\n",
                            "      <td>4.072307e+01</td>\n",
                            "      <td>4.076311e+01</td>\n",
                            "      <td>4.091306e+01</td>\n",
                            "    </tr>\n",
                            "    <tr>\n",
                            "      <th>longitude</th>\n",
                            "      <td>48895.0</td>\n",
                            "      <td>-7.395217e+01</td>\n",
                            "      <td>4.615674e-02</td>\n",
                            "      <td>-74.24442</td>\n",
                            "      <td>-7.398307e+01</td>\n",
                            "      <td>-7.395568e+01</td>\n",
                            "      <td>-7.393627e+01</td>\n",
                            "      <td>-7.371299e+01</td>\n",
                            "    </tr>\n",
                            "    <tr>\n",
                            "      <th>price</th>\n",
                            "      <td>48895.0</td>\n",
                            "      <td>1.527207e+02</td>\n",
                            "      <td>2.401542e+02</td>\n",
                            "      <td>0.00000</td>\n",
                            "      <td>6.900000e+01</td>\n",
                            "      <td>1.060000e+02</td>\n",
                            "      <td>1.750000e+02</td>\n",
                            "      <td>1.000000e+04</td>\n",
                            "    </tr>\n",
                            "    <tr>\n",
                            "      <th>minimum_nights</th>\n",
                            "      <td>48895.0</td>\n",
                            "      <td>7.029962e+00</td>\n",
                            "      <td>2.051055e+01</td>\n",
                            "      <td>1.00000</td>\n",
                            "      <td>1.000000e+00</td>\n",
                            "      <td>3.000000e+00</td>\n",
                            "      <td>5.000000e+00</td>\n",
                            "      <td>1.250000e+03</td>\n",
                            "    </tr>\n",
                            "    <tr>\n",
                            "      <th>number_of_reviews</th>\n",
                            "      <td>48895.0</td>\n",
                            "      <td>2.327447e+01</td>\n",
                            "      <td>4.455058e+01</td>\n",
                            "      <td>0.00000</td>\n",
                            "      <td>1.000000e+00</td>\n",
                            "      <td>5.000000e+00</td>\n",
                            "      <td>2.400000e+01</td>\n",
                            "      <td>6.290000e+02</td>\n",
                            "    </tr>\n",
                            "    <tr>\n",
                            "      <th>calculated_host_listings_count</th>\n",
                            "      <td>48895.0</td>\n",
                            "      <td>7.143982e+00</td>\n",
                            "      <td>3.295252e+01</td>\n",
                            "      <td>1.00000</td>\n",
                            "      <td>1.000000e+00</td>\n",
                            "      <td>1.000000e+00</td>\n",
                            "      <td>2.000000e+00</td>\n",
                            "      <td>3.270000e+02</td>\n",
                            "    </tr>\n",
                            "    <tr>\n",
                            "      <th>availability_365</th>\n",
                            "      <td>48895.0</td>\n",
                            "      <td>1.127813e+02</td>\n",
                            "      <td>1.316223e+02</td>\n",
                            "      <td>0.00000</td>\n",
                            "      <td>0.000000e+00</td>\n",
                            "      <td>4.500000e+01</td>\n",
                            "      <td>2.270000e+02</td>\n",
                            "      <td>3.650000e+02</td>\n",
                            "    </tr>\n",
                            "  </tbody>\n",
                            "</table>\n",
                            "</div>"
                        ],
                        "text/plain": [
                            "                                  count          mean           std  \\\n",
                            "id                              48895.0  1.901714e+07  1.098311e+07   \n",
                            "host_id                         48895.0  6.762001e+07  7.861097e+07   \n",
                            "latitude                        48895.0  4.072895e+01  5.453008e-02   \n",
                            "longitude                       48895.0 -7.395217e+01  4.615674e-02   \n",
                            "price                           48895.0  1.527207e+02  2.401542e+02   \n",
                            "minimum_nights                  48895.0  7.029962e+00  2.051055e+01   \n",
                            "number_of_reviews               48895.0  2.327447e+01  4.455058e+01   \n",
                            "calculated_host_listings_count  48895.0  7.143982e+00  3.295252e+01   \n",
                            "availability_365                48895.0  1.127813e+02  1.316223e+02   \n",
                            "\n",
                            "                                       min           25%           50%  \\\n",
                            "id                              2539.00000  9.471945e+06  1.967728e+07   \n",
                            "host_id                         2438.00000  7.822033e+06  3.079382e+07   \n",
                            "latitude                          40.49979  4.069010e+01  4.072307e+01   \n",
                            "longitude                        -74.24442 -7.398307e+01 -7.395568e+01   \n",
                            "price                              0.00000  6.900000e+01  1.060000e+02   \n",
                            "minimum_nights                     1.00000  1.000000e+00  3.000000e+00   \n",
                            "number_of_reviews                  0.00000  1.000000e+00  5.000000e+00   \n",
                            "calculated_host_listings_count     1.00000  1.000000e+00  1.000000e+00   \n",
                            "availability_365                   0.00000  0.000000e+00  4.500000e+01   \n",
                            "\n",
                            "                                         75%           max  \n",
                            "id                              2.915218e+07  3.648724e+07  \n",
                            "host_id                         1.074344e+08  2.743213e+08  \n",
                            "latitude                        4.076311e+01  4.091306e+01  \n",
                            "longitude                      -7.393627e+01 -7.371299e+01  \n",
                            "price                           1.750000e+02  1.000000e+04  \n",
                            "minimum_nights                  5.000000e+00  1.250000e+03  \n",
                            "number_of_reviews               2.400000e+01  6.290000e+02  \n",
                            "calculated_host_listings_count  2.000000e+00  3.270000e+02  \n",
                            "availability_365                2.270000e+02  3.650000e+02  "
                        ]
                    },
                    "execution_count": 89,
                    "metadata": {},
                    "output_type": "execute_result"
                }
            ],
            "source": [
                "df.describe().T"
            ]
        },
        {
            "cell_type": "code",
            "execution_count": 90,
            "metadata": {},
            "outputs": [
                {
                    "data": {
                        "image/png": "[encoded data removed]",
                        "text/plain": [
                            "<Figure size 1000x500 with 2 Axes>"
                        ]
                    },
                    "metadata": {},
                    "output_type": "display_data"
                }
            ],
            "source": [
                "fig, ax = plt.subplots(1, 2, figsize=(10, 5))\n",
                "\n",
                "ax[0].hist(df['price'], bins=20, color='lightgray', edgecolor='black')\n",
                "ax[0].set_title('Histograma de price')\n",
                "ax[0].set_xlabel('Price')\n",
                "ax[0].set_ylabel('Frecuencia')\n",
                "\n",
                "ax[1].boxplot(df['price'], vert=False)\n",
                "ax[1].set_title('Boxplot de price')\n",
                "ax[1].set_xlabel('Price')\n",
                "\n",
                "plt.tight_layout()\n",
                "plt.show()"
            ]
        },
        {
            "cell_type": "code",
            "execution_count": 91,
            "metadata": {},
            "outputs": [
                {
                    "name": "stderr",
                    "output_type": "stream",
                    "text": [
                        "c:\\Users\\juanm\\AppData\\Local\\Programs\\Python\\Python313\\Lib\\site-packages\\pandas\\core\\arraylike.py:399: RuntimeWarning: divide by zero encountered in log\n",
                        "  result = getattr(ufunc, method)(*inputs, **kwargs)\n"
                    ]
                }
            ],
            "source": [
                "df['LOG_price'] = (np.where(df['price'] > 0, np.log(df['price']), 0))"
            ]
        },
        {
            "cell_type": "code",
            "execution_count": 92,
            "metadata": {},
            "outputs": [
                {
                    "data": {
                        "image/png": "[encoded data removed]",
                        "text/plain": [
                            "<Figure size 1000x500 with 2 Axes>"
                        ]
                    },
                    "metadata": {},
                    "output_type": "display_data"
                }
            ],
            "source": [
                "\n",
                "fig, ax = plt.subplots(1, 2, figsize=(10, 5))\n",
                "\n",
                "\n",
                "ax[0].hist(df['LOG_price'], bins=20, color='skyblue', edgecolor='black')\n",
                "ax[0].set_title('Histograma de price')\n",
                "ax[0].set_xlabel('Precio')\n",
                "ax[0].set_ylabel('Frecuencia')\n",
                "\n",
                "ax[1].boxplot(df['LOG_price'], vert=False)\n",
                "ax[1].set_title('Boxplot de price')\n",
                "ax[1].set_xlabel('Precio')\n",
                "\n",
                "plt.tight_layout()\n",
                "plt.show()"
            ]
        },
        {
            "cell_type": "code",
            "execution_count": 93,
            "metadata": {},
            "outputs": [
                {
                    "data": {
                        "text/plain": [
                            "id                                0.000000\n",
                            "name                              0.032723\n",
                            "host_id                           0.000000\n",
                            "neighbourhood_group               0.000000\n",
                            "latitude                          0.000000\n",
                            "longitude                         0.000000\n",
                            "room_type                         0.000000\n",
                            "price                             0.000000\n",
                            "minimum_nights                    0.000000\n",
                            "number_of_reviews                 0.000000\n",
                            "calculated_host_listings_count    0.000000\n",
                            "availability_365                  0.000000\n",
                            "LOG_price                         0.000000\n",
                            "dtype: float64"
                        ]
                    },
                    "execution_count": 93,
                    "metadata": {},
                    "output_type": "execute_result"
                }
            ],
            "source": [
                "df.isnull().mean()*100"
            ]
        },
        {
            "cell_type": "code",
            "execution_count": 94,
            "metadata": {},
            "outputs": [
                {
                    "data": {
                        "text/plain": [
                            "np.float64(0.03272318232948154)"
                        ]
                    },
                    "execution_count": 94,
                    "metadata": {},
                    "output_type": "execute_result"
                }
            ],
            "source": [
                "df.isnull().any(axis=1).sum()/len(df)*100"
            ]
        },
        {
            "cell_type": "code",
            "execution_count": 95,
            "metadata": {},
            "outputs": [
                {
                    "data": {
                        "text/plain": [
                            "<Axes: >"
                        ]
                    },
                    "execution_count": 95,
                    "metadata": {},
                    "output_type": "execute_result"
                },
                {
                    "data": {
                        "image/png": "[encoded data removed]",
                        "text/plain": [
                            "<Figure size 2500x1000 with 2 Axes>"
                        ]
                    },
                    "metadata": {},
                    "output_type": "display_data"
                }
            ],
            "source": [
                "mingo.matrix(df)"
            ]
        },
        {
            "cell_type": "markdown",
            "metadata": {},
            "source": [
                "He eliminado anteriormente las columnas que contenian valores nulos una como consecuencia de la otra. Por lo que esta no nos muestra valores que se esten solapando."
            ]
        },
        {
            "cell_type": "code",
            "execution_count": 96,
            "metadata": {},
            "outputs": [
                {
                    "data": {
                        "text/plain": [
                            "id                                 0\n",
                            "name                              16\n",
                            "host_id                            0\n",
                            "neighbourhood_group                0\n",
                            "latitude                           0\n",
                            "longitude                          0\n",
                            "room_type                          0\n",
                            "price                              0\n",
                            "minimum_nights                     0\n",
                            "number_of_reviews                  0\n",
                            "calculated_host_listings_count     0\n",
                            "availability_365                   0\n",
                            "LOG_price                          0\n",
                            "dtype: int64"
                        ]
                    },
                    "execution_count": 96,
                    "metadata": {},
                    "output_type": "execute_result"
                }
            ],
            "source": [
                "#prueba de missingno\n",
                "df.isna().sum()"
            ]
        },
        {
            "cell_type": "code",
            "execution_count": 97,
            "metadata": {},
            "outputs": [],
            "source": [
                "df.drop(['name'], axis=1, inplace=True)"
            ]
        },
        {
            "cell_type": "code",
            "execution_count": 98,
            "metadata": {},
            "outputs": [
                {
                    "name": "stdout",
                    "output_type": "stream",
                    "text": [
                        "id                                0.0\n",
                        "host_id                           0.0\n",
                        "latitude                          0.0\n",
                        "longitude                         0.0\n",
                        "price                             0.0\n",
                        "minimum_nights                    0.0\n",
                        "number_of_reviews                 0.0\n",
                        "calculated_host_listings_count    0.0\n",
                        "availability_365                  0.0\n",
                        "LOG_price                         0.0\n",
                        "dtype: float64\n"
                    ]
                }
            ],
            "source": [
                "num_cols = df.select_dtypes(include=['int64', 'float64']).columns\n",
                "\n",
                "df[num_cols].isnull().sum()\n",
                "\n",
                "print(df[num_cols].isnull().sum() / len(df) * 100)"
            ]
        },
        {
            "cell_type": "code",
            "execution_count": 102,
            "metadata": {},
            "outputs": [],
            "source": [
                "x = df[['minimum_nights', 'availability_365','calculated_host_listings_count', 'number_of_reviews']]\n",
                "        \n",
                "y = df['price']"
            ]
        },
        {
            "cell_type": "code",
            "execution_count": 107,
            "metadata": {},
            "outputs": [
                {
                    "name": "stdout",
                    "output_type": "stream",
                    "text": [
                        "{(39116, 4)} {(9779, 4)}\n"
                    ]
                }
            ],
            "source": [
                "x_train, x_test, y_train, y_test = train_test_split(x, y, test_size=0.2, random_state=42)\n",
                "\n",
                "print({x_train.shape}, {x_test.shape})"
            ]
        },
        {
            "cell_type": "code",
            "execution_count": 109,
            "metadata": {},
            "outputs": [
                {
                    "data": {
                        "text/plain": [
                            "Text(0, 0.5, \"Cook's Distance\")"
                        ]
                    },
                    "execution_count": 109,
                    "metadata": {},
                    "output_type": "execute_result"
                },
                {
                    "data": {
                        "image/png": "[encoded data removed]",
                        "text/plain": [
                            "<Figure size 640x480 with 1 Axes>"
                        ]
                    },
                    "metadata": {},
                    "output_type": "display_data"
                }
            ],
            "source": [
                "x_train_const = sm.add_constant(x_train)   \n",
                "model = sm.OLS(y_train, x_train_const).fit()\n",
                "\n",
                "cooks_distance = model.get_influence().cooks_distance[0]\n",
                "\n",
                "plt.scatter(y_train, cooks_distance)    \n",
                "plt.xlabel('x')\n",
                "plt.ylabel('Cook\\'s Distance')\n"
            ]
        },
        {
            "cell_type": "code",
            "execution_count": 110,
            "metadata": {},
            "outputs": [],
            "source": [
                "pto_corte = 4 / len(x_train)"
            ]
        },
        {
            "cell_type": "code",
            "execution_count": 115,
            "metadata": {},
            "outputs": [
                {
                    "data": {
                        "text/plain": [
                            "(array([   34,   247,   281,   322,   386,   414,   417,   463,   522,\n",
                            "          799,   895,   974,  1022,  1035,  1087,  1179,  1191,  1197,\n",
                            "         1296,  1314,  1505,  1563,  1611,  1631,  1637,  1717,  1795,\n",
                            "         1846,  1925,  1949,  1950,  2032,  2152,  2174,  2187,  2285,\n",
                            "         2331,  2370,  2515,  2693,  2763,  2843,  2932,  3098,  3125,\n",
                            "         3166,  3176,  3260,  3310,  3336,  3354,  3366,  3779,  4085,\n",
                            "         4209,  4210,  4251,  4259,  4292,  4293,  4364,  4371,  4405,\n",
                            "         4570,  4574,  4625,  4636,  4668,  4750,  4752,  4795,  4847,\n",
                            "         4901,  4947,  5321,  5384,  5416,  5616,  5625,  5674,  5737,\n",
                            "         5759,  5848,  6058,  6083,  6365,  6377,  6437,  6644,  6662,\n",
                            "         6667,  6684,  6705,  6767,  6874,  6911,  6956,  7021,  7031,\n",
                            "         7067,  7179,  7312,  7362,  7412,  7419,  7548,  8131,  8167,\n",
                            "         8173,  8218,  8283,  8289,  8383,  8426,  8546,  8605,  8614,\n",
                            "         8796,  8924,  9156,  9167,  9226,  9296,  9353,  9355,  9366,\n",
                            "         9427,  9428,  9464,  9693,  9722,  9891,  9959, 10204, 10217,\n",
                            "        10240, 10281, 10308, 10313, 10393, 10459, 10524, 10532, 10593,\n",
                            "        10646, 10721, 10726, 10781, 10806, 10907, 10931, 10955, 10977,\n",
                            "        11065, 11099, 11162, 11172, 11193, 11225, 11270, 11273, 11374,\n",
                            "        11728, 11907, 11948, 11956, 12021, 12050, 12102, 12182, 12378,\n",
                            "        12395, 12401, 12433, 12467, 12522, 12661, 12740, 12748, 12777,\n",
                            "        12807, 12837, 13071, 13080, 13104, 13138, 13149, 13344, 13366,\n",
                            "        13466, 13595, 13646, 13670, 13683, 13733, 13742, 13997, 14075,\n",
                            "        14133, 14148, 14412, 14563, 14646, 14768, 14851, 14877, 14917,\n",
                            "        14967, 15021, 15139, 15215, 15284, 15309, 15342, 15390, 15391,\n",
                            "        15412, 15443, 15460, 15500, 15555, 15692, 15833, 16228, 16271,\n",
                            "        16348, 16359, 16403, 16458, 16483, 16487, 16498, 16547, 16638,\n",
                            "        16651, 16678, 16728, 16953, 17027, 17123, 17182, 17319, 17349,\n",
                            "        17372, 17392, 17484, 17506, 17662, 18024, 18087, 18176, 18178,\n",
                            "        18356, 18391, 18420, 18479, 18503, 18539, 18548, 18608, 18786,\n",
                            "        18816, 18872, 18878, 18967, 19024, 19093, 19205, 19308, 19321,\n",
                            "        19366, 19436, 19468, 19496, 19516, 19672, 19739, 19759, 19858,\n",
                            "        19941, 20028, 20033, 20269, 20286, 20424, 20593, 20622, 20743,\n",
                            "        20754, 20818, 20835, 20856, 20875, 20880, 20939, 21061, 21143,\n",
                            "        21168, 21321, 21330, 21450, 21783, 21908, 21928, 22058, 22151,\n",
                            "        22155, 22210, 22272, 22290, 22298, 22460, 22631, 22776, 23051,\n",
                            "        23093, 23178, 23183, 23444, 23445, 23584, 23748, 23854, 23864,\n",
                            "        23883, 23989, 24043, 24190, 24208, 24241, 24323, 24340, 24454,\n",
                            "        24556, 24570, 24573, 24577, 24771, 24798, 24828, 24833, 24846,\n",
                            "        24921, 25060, 25096, 25183, 25503, 25685, 25687, 25722, 25750,\n",
                            "        26003, 26078, 26137, 26149, 26150, 26204, 26245, 26427, 26440,\n",
                            "        26491, 26550, 26614, 26748, 26798, 26876, 27408, 27512, 27536,\n",
                            "        27583, 27585, 27685, 27808, 27816, 27883, 27934, 27987, 28061,\n",
                            "        28289, 28402, 28485, 28498, 28510, 28547, 28872, 28882, 28939,\n",
                            "        28949, 28964, 28975, 29259, 29262, 29267, 29328, 29341, 29414,\n",
                            "        29551, 29671, 29958, 29984, 30087, 30136, 30181, 30247, 30271,\n",
                            "        30336, 30351, 30448, 30451, 30568, 30579, 30593, 30717, 30736,\n",
                            "        30845, 30938, 30994, 31141, 31239, 31350, 31364, 31475, 31582,\n",
                            "        31590, 31662, 31696, 31761, 31892, 31922, 32114, 32166, 32224,\n",
                            "        32226, 32251, 32261, 32278, 32295, 32362, 32380, 32388, 32407,\n",
                            "        32438, 32452, 32519, 32550, 32725, 32782, 32824, 32920, 32968,\n",
                            "        33000, 33092, 33139, 33247, 33252, 33254, 33258, 33260, 33291,\n",
                            "        33321, 33410, 33464, 33467, 33574, 33693, 33697, 33723, 33795,\n",
                            "        33832, 33835, 33869, 33905, 34030, 34055, 34224, 34246, 34311,\n",
                            "        34337, 34370, 34396, 34440, 34608, 34790, 34823, 34831, 34925,\n",
                            "        34941, 34954, 35044, 35062, 35098, 35122, 35156, 35178, 35236,\n",
                            "        35282, 35372, 35385, 35416, 35464, 35471, 35586, 35671, 35674,\n",
                            "        35676, 36088, 36196, 36206, 36288, 36293, 36360, 36376, 36401,\n",
                            "        36402, 36533, 36628, 36708, 36714, 36742, 36750, 36808, 36825,\n",
                            "        36878, 36903, 36937, 37039, 37082, 37191, 37246, 37343, 37440,\n",
                            "        37639, 37648, 37747, 37818, 37833, 37838, 37844, 38135, 38143,\n",
                            "        38206, 38213, 38316, 38321, 38394, 38402, 38725, 38760, 38765,\n",
                            "        38776, 38803, 38942, 39080, 39083, 39108]),)"
                        ]
                    },
                    "execution_count": 115,
                    "metadata": {},
                    "output_type": "execute_result"
                }
            ],
            "source": [
                "np.where(cooks_distance > pto_corte)"
            ]
        },
        {
            "cell_type": "code",
            "execution_count": 116,
            "metadata": {},
            "outputs": [
                {
                    "data": {
                        "text/plain": [
                            "minimum_nights                    30\n",
                            "availability_365                  97\n",
                            "calculated_host_listings_count     1\n",
                            "number_of_reviews                  0\n",
                            "Name: 37194, dtype: int64"
                        ]
                    },
                    "execution_count": 116,
                    "metadata": {},
                    "output_type": "execute_result"
                }
            ],
            "source": [
                "x_train.iloc[39108, :]"
            ]
        },
        {
            "cell_type": "code",
            "execution_count": 121,
            "metadata": {},
            "outputs": [
                {
                    "name": "stdout",
                    "output_type": "stream",
                    "text": [
                        "{1.1350853870538908}\n"
                    ]
                }
            ],
            "source": [
                "idx_influencia = np.where(cooks_distance > pto_influencia)[0]\n",
                "print ({len(idx_influencia)/len(df) * 100})"
            ]
        },
        {
            "cell_type": "code",
            "execution_count": 123,
            "metadata": {},
            "outputs": [
                {
                    "data": {
                        "text/plain": [
                            "Index([47400, 41224, 30259, 33430,  1426, 44736, 48301, 38776, 45572,  3622,\n",
                            "       ...\n",
                            "        6190,  5801,  3420, 43525, 40764, 46214, 30080, 11394,  1899, 37194],\n",
                            "      dtype='int64', length=555)"
                        ]
                    },
                    "execution_count": 123,
                    "metadata": {},
                    "output_type": "execute_result"
                }
            ],
            "source": [
                "x_train.index[idx_influencia]"
            ]
        },
        {
            "cell_type": "code",
            "execution_count": 140,
            "metadata": {},
            "outputs": [],
            "source": [
                "x_train1 = x_train.loc[x_train.index.isin(x_train.index[idx_influencia]),:]\n",
                "y_train1 = y_train.loc[x_train.index.isin(x_train.index[idx_influencia])]"
            ]
        },
        {
            "cell_type": "code",
            "execution_count": null,
            "metadata": {},
            "outputs": [
                {
                    "name": "stdout",
                    "output_type": "stream",
                    "text": [
                        "                          feature  importance\n",
                        "0                  minimum_nights   31.715715\n",
                        "1                availability_365   17.058798\n",
                        "2  calculated_host_listings_count   30.021492\n",
                        "3               number_of_reviews   21.203999\n"
                    ]
                }
            ],
            "source": [
                "xgb_model = xgb.XGBRegressor(objective='reg:squarederror', random_state=42)\n",
                "xgb_model.fit(x_train1, y_train1)\n",
                "\n",
                "dic_data = importances = xgb_model.feature_importances_ * 100\n",
                "dic_data = {'feature': x_train1.columns, 'importance': importances}\n",
                "df_imp = pd.DataFrame(dic_data)\n",
                "print(df_imp)"
            ]
        },
        {
            "cell_type": "code",
            "execution_count": 146,
            "metadata": {},
            "outputs": [
                {
                    "name": "stderr",
                    "output_type": "stream",
                    "text": [
                        "C:\\Users\\juanm\\AppData\\Local\\Temp\\ipykernel_5488\\630497199.py:1: SettingWithCopyWarning: \n",
                        "A value is trying to be set on a copy of a slice from a DataFrame\n",
                        "\n",
                        "See the caveats in the documentation: https://pandas.pydata.org/pandas-docs/stable/user_guide/indexing.html#returning-a-view-versus-a-copy\n",
                        "  x_train1.drop(df_imp[df_imp['importance'] < 10].index, axis=1, inplace=True )\n"
                    ]
                }
            ],
            "source": [
                "x_train1.drop(df_imp[df_imp['importance'] < 10].index, axis=1, inplace=True )\n",
                "x_test.drop(df_imp[df_imp['importance'] < 10].index, axis=1, inplace=True )  \n"
            ]
        },
        {
            "cell_type": "code",
            "execution_count": 147,
            "metadata": {},
            "outputs": [
                {
                    "data": {
                        "text/plain": [
                            "(555, 4)"
                        ]
                    },
                    "execution_count": 147,
                    "metadata": {},
                    "output_type": "execute_result"
                }
            ],
            "source": [
                "x_train1.shape"
            ]
        }
    ],
    "metadata": {
        "kernelspec": {
            "display_name": "Python 3",
            "language": "python",
            "name": "python3"
        },
        "language_info": {
            "codemirror_mode": {
                "name": "ipython",
                "version": 3
            },
            "file_extension": ".py",
            "mimetype": "text/x-python",
            "name": "python",
            "nbconvert_exporter": "python",
            "pygments_lexer": "ipython3",
            "version": "3.13.4"
        },
        "orig_nbformat": 4
    },
    "nbformat": 4,
    "nbformat_minor": 2
}
